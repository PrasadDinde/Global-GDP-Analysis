{
 "cells": [
  {
   "cell_type": "code",
   "execution_count": 62,
   "id": "c4aad266-d210-40f4-b775-c093761339fd",
   "metadata": {},
   "outputs": [],
   "source": [
    "import os\n",
    "import pandas as pd\n",
    "import plotly.express as px\n",
    "import plotly.offline as pyo\n",
    "df=pd.read_csv('gdp.csv')"
   ]
  },
  {
   "cell_type": "code",
   "execution_count": 64,
   "id": "0612cea4-f3c3-4a9b-96f9-2063e481194f",
   "metadata": {},
   "outputs": [],
   "source": [
    "final=[]\n",
    "for country in df['Country Name'].unique():\n",
    "    df_all=df[df['Country Name']==country]\n",
    "    data=df_all.values\n",
    "    gdp=[0]\n",
    "    for i in range(1,len(data)):\n",
    "        curr=data[i][3]\n",
    "        prev=data[i-1][3]\n",
    "        per=(curr-prev)/prev*100\n",
    "        gdp.append(round(per,2))\n",
    "    df_all=df_all.assign(GDP=gdp)\n",
    "    final.append(df_all)\n",
    "df=pd.concat(final,axis=0)"
   ]
  },
  {
   "cell_type": "code",
   "execution_count": 66,
   "id": "d818b070-0e2c-4e68-9f57-2796f53ac6a9",
   "metadata": {},
   "outputs": [
    {
     "data": {
      "text/html": [
       "<div>\n",
       "<style scoped>\n",
       "    .dataframe tbody tr th:only-of-type {\n",
       "        vertical-align: middle;\n",
       "    }\n",
       "\n",
       "    .dataframe tbody tr th {\n",
       "        vertical-align: top;\n",
       "    }\n",
       "\n",
       "    .dataframe thead th {\n",
       "        text-align: right;\n",
       "    }\n",
       "</style>\n",
       "<table border=\"1\" class=\"dataframe\">\n",
       "  <thead>\n",
       "    <tr style=\"text-align: right;\">\n",
       "      <th></th>\n",
       "      <th>Country Name</th>\n",
       "      <th>Country Code</th>\n",
       "      <th>Year</th>\n",
       "      <th>Value</th>\n",
       "      <th>GDP</th>\n",
       "    </tr>\n",
       "  </thead>\n",
       "  <tbody>\n",
       "    <tr>\n",
       "      <th>0</th>\n",
       "      <td>Arab World</td>\n",
       "      <td>ARB</td>\n",
       "      <td>1968</td>\n",
       "      <td>2.576068e+10</td>\n",
       "      <td>0.00</td>\n",
       "    </tr>\n",
       "    <tr>\n",
       "      <th>1</th>\n",
       "      <td>Arab World</td>\n",
       "      <td>ARB</td>\n",
       "      <td>1969</td>\n",
       "      <td>2.843420e+10</td>\n",
       "      <td>10.38</td>\n",
       "    </tr>\n",
       "    <tr>\n",
       "      <th>2</th>\n",
       "      <td>Arab World</td>\n",
       "      <td>ARB</td>\n",
       "      <td>1970</td>\n",
       "      <td>3.138550e+10</td>\n",
       "      <td>10.38</td>\n",
       "    </tr>\n",
       "    <tr>\n",
       "      <th>3</th>\n",
       "      <td>Arab World</td>\n",
       "      <td>ARB</td>\n",
       "      <td>1971</td>\n",
       "      <td>3.642691e+10</td>\n",
       "      <td>16.06</td>\n",
       "    </tr>\n",
       "    <tr>\n",
       "      <th>4</th>\n",
       "      <td>Arab World</td>\n",
       "      <td>ARB</td>\n",
       "      <td>1972</td>\n",
       "      <td>4.331606e+10</td>\n",
       "      <td>18.91</td>\n",
       "    </tr>\n",
       "  </tbody>\n",
       "</table>\n",
       "</div>"
      ],
      "text/plain": [
       "  Country Name Country Code  Year         Value    GDP\n",
       "0   Arab World          ARB  1968  2.576068e+10   0.00\n",
       "1   Arab World          ARB  1969  2.843420e+10  10.38\n",
       "2   Arab World          ARB  1970  3.138550e+10  10.38\n",
       "3   Arab World          ARB  1971  3.642691e+10  16.06\n",
       "4   Arab World          ARB  1972  4.331606e+10  18.91"
      ]
     },
     "execution_count": 66,
     "metadata": {},
     "output_type": "execute_result"
    }
   ],
   "source": [
    "df.head()"
   ]
  },
  {
   "cell_type": "markdown",
   "id": "d187244e-5327-4156-8267-d07dda3ddd67",
   "metadata": {},
   "source": [
    "## GDP of Each Country"
   ]
  },
  {
   "cell_type": "code",
   "execution_count": 73,
   "id": "b23688a3-e2db-42e8-9c93-b9f4eaec93a1",
   "metadata": {},
   "outputs": [],
   "source": [
    "os.mkdir('GDP Individual')\n",
    "for country in df['Country Name'].unique():\n",
    "    df_all=df[df['Country Name']==country]\n",
    "    fig=px.line(df_all,x='Year',y='Value',title=country+' GDP Analysis')\n",
    "    pyo.plot(fig,filename='GDP Individual/'+country+' .html',auto_open=False)"
   ]
  },
  {
   "cell_type": "markdown",
   "id": "6f5f439f-178b-4f75-8b13-15dbd167696c",
   "metadata": {},
   "source": [
    "## GDP of Each country WRT World"
   ]
  },
  {
   "cell_type": "code",
   "execution_count": 72,
   "id": "d0c66ce2-2377-4114-8664-9b5e48c0bf58",
   "metadata": {},
   "outputs": [],
   "source": [
    "os.mkdir('GDP Individual WRT 80T')\n",
    "for country in df['Country Name'].unique():\n",
    "    df_al=df[df['Country Name']==country]\n",
    "    fig2=px.line(df_al,x='Year',y='Value',title=country+' GDP Analysis WRT 80T',range_y=[0,80000000000000])\n",
    "    pyo.plot(fig2,filename='GDP Individual WRT 80T/'+country+' .html',auto_open=False)"
   ]
  },
  {
   "cell_type": "markdown",
   "id": "0330dcde-7e1b-4d49-9029-afcb069a28d4",
   "metadata": {},
   "source": [
    "## Compare GDP Across Country"
   ]
  },
  {
   "cell_type": "markdown",
   "id": "58164084-41ae-48e1-9ce1-f3b5cbcaa68c",
   "metadata": {},
   "source": [
    "### GDP of all country"
   ]
  },
  {
   "cell_type": "code",
   "execution_count": 74,
   "id": "421467b0-6812-4d5b-bcc6-2442cc2e9706",
   "metadata": {},
   "outputs": [
    {
     "data": {
      "text/plain": [
       "'All GDP Countries.html'"
      ]
     },
     "execution_count": 74,
     "metadata": {},
     "output_type": "execute_result"
    }
   ],
   "source": [
    "fig3=px.line(df,x='Year',y='Value',title='GDP Analysis of all Country',color='Country Name')\n",
    "pyo.plot(fig3,filename='All GDP Countries.html')"
   ]
  },
  {
   "cell_type": "markdown",
   "id": "dd16eed0-bb72-48e1-99f2-75bb9ba0f906",
   "metadata": {},
   "source": [
    "### GDP Comparison Between India & China"
   ]
  },
  {
   "cell_type": "code",
   "execution_count": 85,
   "id": "8ba8f4c9-4e5e-48af-8e6d-414a3d4cb846",
   "metadata": {},
   "outputs": [
    {
     "data": {
      "text/html": [
       "<div>\n",
       "<style scoped>\n",
       "    .dataframe tbody tr th:only-of-type {\n",
       "        vertical-align: middle;\n",
       "    }\n",
       "\n",
       "    .dataframe tbody tr th {\n",
       "        vertical-align: top;\n",
       "    }\n",
       "\n",
       "    .dataframe thead th {\n",
       "        text-align: right;\n",
       "    }\n",
       "</style>\n",
       "<table border=\"1\" class=\"dataframe\">\n",
       "  <thead>\n",
       "    <tr style=\"text-align: right;\">\n",
       "      <th></th>\n",
       "      <th>Country Name</th>\n",
       "      <th>Country Code</th>\n",
       "      <th>Year</th>\n",
       "      <th>Value</th>\n",
       "      <th>GDP</th>\n",
       "    </tr>\n",
       "  </thead>\n",
       "  <tbody>\n",
       "    <tr>\n",
       "      <th>6074</th>\n",
       "      <td>India</td>\n",
       "      <td>IND</td>\n",
       "      <td>1960</td>\n",
       "      <td>3.653593e+10</td>\n",
       "      <td>0.00</td>\n",
       "    </tr>\n",
       "    <tr>\n",
       "      <th>6075</th>\n",
       "      <td>India</td>\n",
       "      <td>IND</td>\n",
       "      <td>1961</td>\n",
       "      <td>3.870910e+10</td>\n",
       "      <td>5.95</td>\n",
       "    </tr>\n",
       "    <tr>\n",
       "      <th>6076</th>\n",
       "      <td>India</td>\n",
       "      <td>IND</td>\n",
       "      <td>1962</td>\n",
       "      <td>4.159907e+10</td>\n",
       "      <td>7.47</td>\n",
       "    </tr>\n",
       "    <tr>\n",
       "      <th>6077</th>\n",
       "      <td>India</td>\n",
       "      <td>IND</td>\n",
       "      <td>1963</td>\n",
       "      <td>4.777600e+10</td>\n",
       "      <td>14.85</td>\n",
       "    </tr>\n",
       "    <tr>\n",
       "      <th>6078</th>\n",
       "      <td>India</td>\n",
       "      <td>IND</td>\n",
       "      <td>1964</td>\n",
       "      <td>5.572687e+10</td>\n",
       "      <td>16.64</td>\n",
       "    </tr>\n",
       "    <tr>\n",
       "      <th>...</th>\n",
       "      <td>...</td>\n",
       "      <td>...</td>\n",
       "      <td>...</td>\n",
       "      <td>...</td>\n",
       "      <td>...</td>\n",
       "    </tr>\n",
       "    <tr>\n",
       "      <th>4098</th>\n",
       "      <td>China</td>\n",
       "      <td>CHN</td>\n",
       "      <td>2012</td>\n",
       "      <td>8.560547e+12</td>\n",
       "      <td>13.05</td>\n",
       "    </tr>\n",
       "    <tr>\n",
       "      <th>4099</th>\n",
       "      <td>China</td>\n",
       "      <td>CHN</td>\n",
       "      <td>2013</td>\n",
       "      <td>9.607224e+12</td>\n",
       "      <td>12.23</td>\n",
       "    </tr>\n",
       "    <tr>\n",
       "      <th>4100</th>\n",
       "      <td>China</td>\n",
       "      <td>CHN</td>\n",
       "      <td>2014</td>\n",
       "      <td>1.048237e+13</td>\n",
       "      <td>9.11</td>\n",
       "    </tr>\n",
       "    <tr>\n",
       "      <th>4101</th>\n",
       "      <td>China</td>\n",
       "      <td>CHN</td>\n",
       "      <td>2015</td>\n",
       "      <td>1.106467e+13</td>\n",
       "      <td>5.55</td>\n",
       "    </tr>\n",
       "    <tr>\n",
       "      <th>4102</th>\n",
       "      <td>China</td>\n",
       "      <td>CHN</td>\n",
       "      <td>2016</td>\n",
       "      <td>1.119915e+13</td>\n",
       "      <td>1.22</td>\n",
       "    </tr>\n",
       "  </tbody>\n",
       "</table>\n",
       "<p>114 rows × 5 columns</p>\n",
       "</div>"
      ],
      "text/plain": [
       "     Country Name Country Code  Year         Value    GDP\n",
       "6074        India          IND  1960  3.653593e+10   0.00\n",
       "6075        India          IND  1961  3.870910e+10   5.95\n",
       "6076        India          IND  1962  4.159907e+10   7.47\n",
       "6077        India          IND  1963  4.777600e+10  14.85\n",
       "6078        India          IND  1964  5.572687e+10  16.64\n",
       "...           ...          ...   ...           ...    ...\n",
       "4098        China          CHN  2012  8.560547e+12  13.05\n",
       "4099        China          CHN  2013  9.607224e+12  12.23\n",
       "4100        China          CHN  2014  1.048237e+13   9.11\n",
       "4101        China          CHN  2015  1.106467e+13   5.55\n",
       "4102        China          CHN  2016  1.119915e+13   1.22\n",
       "\n",
       "[114 rows x 5 columns]"
      ]
     },
     "execution_count": 85,
     "metadata": {},
     "output_type": "execute_result"
    }
   ],
   "source": [
    "c1=df[df['Country Name']=='India']\n",
    "c2=df[df['Country Name']=='China']\n",
    "df_pr=pd.concat([c1,c2],axis=0)\n",
    "df_pr"
   ]
  },
  {
   "cell_type": "code",
   "execution_count": 82,
   "id": "ade26c22-26f1-45c9-b4a8-2a7a5d5a49c1",
   "metadata": {},
   "outputs": [
    {
     "data": {
      "text/plain": [
       "'IND & CHN.html'"
      ]
     },
     "execution_count": 82,
     "metadata": {},
     "output_type": "execute_result"
    }
   ],
   "source": [
    "fig=px.line(df_pr,x='Year',y='Value',title='GDP Comparison India|China ',color='Country Name')\n",
    "pyo.plot(fig,filename='IND & CHN.html')\n"
   ]
  },
  {
   "cell_type": "markdown",
   "id": "8607b9c0-fc61-4901-b9bf-82091f33e0bb",
   "metadata": {},
   "source": [
    "### GDP Comparison Between World & China"
   ]
  },
  {
   "cell_type": "code",
   "execution_count": 87,
   "id": "31882716-2325-4ac7-84cb-d9f0e503cb8c",
   "metadata": {},
   "outputs": [
    {
     "data": {
      "text/html": [
       "<div>\n",
       "<style scoped>\n",
       "    .dataframe tbody tr th:only-of-type {\n",
       "        vertical-align: middle;\n",
       "    }\n",
       "\n",
       "    .dataframe tbody tr th {\n",
       "        vertical-align: top;\n",
       "    }\n",
       "\n",
       "    .dataframe thead th {\n",
       "        text-align: right;\n",
       "    }\n",
       "</style>\n",
       "<table border=\"1\" class=\"dataframe\">\n",
       "  <thead>\n",
       "    <tr style=\"text-align: right;\">\n",
       "      <th></th>\n",
       "      <th>Country Name</th>\n",
       "      <th>Country Code</th>\n",
       "      <th>Year</th>\n",
       "      <th>Value</th>\n",
       "      <th>GDP</th>\n",
       "    </tr>\n",
       "  </thead>\n",
       "  <tbody>\n",
       "    <tr>\n",
       "      <th>2249</th>\n",
       "      <td>World</td>\n",
       "      <td>WLD</td>\n",
       "      <td>1960</td>\n",
       "      <td>1.366678e+12</td>\n",
       "      <td>0.00</td>\n",
       "    </tr>\n",
       "    <tr>\n",
       "      <th>2250</th>\n",
       "      <td>World</td>\n",
       "      <td>WLD</td>\n",
       "      <td>1961</td>\n",
       "      <td>1.421788e+12</td>\n",
       "      <td>4.03</td>\n",
       "    </tr>\n",
       "    <tr>\n",
       "      <th>2251</th>\n",
       "      <td>World</td>\n",
       "      <td>WLD</td>\n",
       "      <td>1962</td>\n",
       "      <td>1.526955e+12</td>\n",
       "      <td>7.40</td>\n",
       "    </tr>\n",
       "    <tr>\n",
       "      <th>2252</th>\n",
       "      <td>World</td>\n",
       "      <td>WLD</td>\n",
       "      <td>1963</td>\n",
       "      <td>1.643752e+12</td>\n",
       "      <td>7.65</td>\n",
       "    </tr>\n",
       "    <tr>\n",
       "      <th>2253</th>\n",
       "      <td>World</td>\n",
       "      <td>WLD</td>\n",
       "      <td>1964</td>\n",
       "      <td>1.800796e+12</td>\n",
       "      <td>9.55</td>\n",
       "    </tr>\n",
       "    <tr>\n",
       "      <th>...</th>\n",
       "      <td>...</td>\n",
       "      <td>...</td>\n",
       "      <td>...</td>\n",
       "      <td>...</td>\n",
       "      <td>...</td>\n",
       "    </tr>\n",
       "    <tr>\n",
       "      <th>4098</th>\n",
       "      <td>China</td>\n",
       "      <td>CHN</td>\n",
       "      <td>2012</td>\n",
       "      <td>8.560547e+12</td>\n",
       "      <td>13.05</td>\n",
       "    </tr>\n",
       "    <tr>\n",
       "      <th>4099</th>\n",
       "      <td>China</td>\n",
       "      <td>CHN</td>\n",
       "      <td>2013</td>\n",
       "      <td>9.607224e+12</td>\n",
       "      <td>12.23</td>\n",
       "    </tr>\n",
       "    <tr>\n",
       "      <th>4100</th>\n",
       "      <td>China</td>\n",
       "      <td>CHN</td>\n",
       "      <td>2014</td>\n",
       "      <td>1.048237e+13</td>\n",
       "      <td>9.11</td>\n",
       "    </tr>\n",
       "    <tr>\n",
       "      <th>4101</th>\n",
       "      <td>China</td>\n",
       "      <td>CHN</td>\n",
       "      <td>2015</td>\n",
       "      <td>1.106467e+13</td>\n",
       "      <td>5.55</td>\n",
       "    </tr>\n",
       "    <tr>\n",
       "      <th>4102</th>\n",
       "      <td>China</td>\n",
       "      <td>CHN</td>\n",
       "      <td>2016</td>\n",
       "      <td>1.119915e+13</td>\n",
       "      <td>1.22</td>\n",
       "    </tr>\n",
       "  </tbody>\n",
       "</table>\n",
       "<p>114 rows × 5 columns</p>\n",
       "</div>"
      ],
      "text/plain": [
       "     Country Name Country Code  Year         Value    GDP\n",
       "2249        World          WLD  1960  1.366678e+12   0.00\n",
       "2250        World          WLD  1961  1.421788e+12   4.03\n",
       "2251        World          WLD  1962  1.526955e+12   7.40\n",
       "2252        World          WLD  1963  1.643752e+12   7.65\n",
       "2253        World          WLD  1964  1.800796e+12   9.55\n",
       "...           ...          ...   ...           ...    ...\n",
       "4098        China          CHN  2012  8.560547e+12  13.05\n",
       "4099        China          CHN  2013  9.607224e+12  12.23\n",
       "4100        China          CHN  2014  1.048237e+13   9.11\n",
       "4101        China          CHN  2015  1.106467e+13   5.55\n",
       "4102        China          CHN  2016  1.119915e+13   1.22\n",
       "\n",
       "[114 rows x 5 columns]"
      ]
     },
     "execution_count": 87,
     "metadata": {},
     "output_type": "execute_result"
    }
   ],
   "source": [
    "c1=df[df['Country Name']=='World']\n",
    "c2=df[df['Country Name']=='China']\n",
    "df_pr=pd.concat([c1,c2],axis=0)\n",
    "df_pr"
   ]
  },
  {
   "cell_type": "code",
   "execution_count": 89,
   "id": "bfddeac4-d3df-4dc7-8327-981bfaf24414",
   "metadata": {},
   "outputs": [
    {
     "data": {
      "text/plain": [
       "'WLD & CHN.html'"
      ]
     },
     "execution_count": 89,
     "metadata": {},
     "output_type": "execute_result"
    }
   ],
   "source": [
    "fig=px.line(df_pr,x='Year',y='Value',title='GDP Comparison World | China ',color='Country Name')\n",
    "pyo.plot(fig,filename='WLD & CHN.html')"
   ]
  },
  {
   "cell_type": "code",
   "execution_count": null,
   "id": "c27d4730-999d-428b-888b-eb719dc89f50",
   "metadata": {},
   "outputs": [],
   "source": []
  }
 ],
 "metadata": {
  "kernelspec": {
   "display_name": "Python 3 (ipykernel)",
   "language": "python",
   "name": "python3"
  },
  "language_info": {
   "codemirror_mode": {
    "name": "ipython",
    "version": 3
   },
   "file_extension": ".py",
   "mimetype": "text/x-python",
   "name": "python",
   "nbconvert_exporter": "python",
   "pygments_lexer": "ipython3",
   "version": "3.11.7"
  }
 },
 "nbformat": 4,
 "nbformat_minor": 5
}
